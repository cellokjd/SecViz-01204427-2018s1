{
 "cells": [
  {
   "cell_type": "code",
   "execution_count": 1,
   "metadata": {},
   "outputs": [],
   "source": [
    "import pandas as pd\n",
    "import json\n",
    "import numpy as np\n",
    "import random"
   ]
  },
  {
   "cell_type": "code",
   "execution_count": 2,
   "metadata": {},
   "outputs": [],
   "source": [
    "df_domestic = pd.read_csv('domestic.csv')\n",
    "df_inter = pd.read_csv('international.csv')"
   ]
  },
  {
   "cell_type": "code",
   "execution_count": 3,
   "metadata": {},
   "outputs": [],
   "source": [
    "def csv_to_json(df):\n",
    "    color_as = {}\n",
    "    j = 0\n",
    "    result = \"\"\n",
    "    node_list = []\n",
    "    posx=0\n",
    "    posy=0\n",
    "    for i in df['ASN'].unique():\n",
    "        node_dict = {}\n",
    "        result += '{'\n",
    "        r = lambda: random.randint(0,255)\n",
    "        color = ('#%02X%02X%02X' % (r(),r(),r()) )\n",
    "        color_as[i] = color\n",
    "        node_dict['color'] = color\n",
    "        node_dict['label'] = (df[df['ASN']==i]['Name'].unique())[0]\n",
    "        node_dict['attributes'] = {}\n",
    "        node_dict['y'] = random.randint(-1500,1500)\n",
    "        node_dict['x'] = random.randint(-1500,1500)\n",
    "#         node_dict['x'] = posx\n",
    "#         node_dict['y'] = posy\n",
    "        node_dict['id'] = i\n",
    "        node_dict['size'] = ((df[df['ASN']==i]['Bandwidth'].sum())/30) + ((df[df['ASN-source']==i]['Bandwidth'].sum())/30)\n",
    "        node_list.append(node_dict)\n",
    "        posx += 5\n",
    "        posy += 5\n",
    "    edges_list = []\n",
    "    for index,row in df.iterrows():\n",
    "        edge_dict = {}\n",
    "        edge_dict['sourceID'] = row['ASN-source']\n",
    "        edge_dict['attributes'] = {}\n",
    "        edge_dict['targetID'] = row['ASN']\n",
    "        edge_dict['size'] = row['Bandwidth']\n",
    "        edges_list.append(edge_dict)\n",
    "    #     print(row['ASN'])\n",
    "    x = json.dumps({'nodes': node_list, 'edges': edges_list},  sort_keys=True,indent = 4,  separators=(',',': '))\n",
    "    return x"
   ]
  },
  {
   "cell_type": "code",
   "execution_count": 4,
   "metadata": {
    "scrolled": false
   },
   "outputs": [],
   "source": [
    "data_domestic = csv_to_json(df=df_domestic)\n",
    "with open('./data_domestic.json', 'w') as f:\n",
    "    f.write(data_domestic)"
   ]
  },
  {
   "cell_type": "code",
   "execution_count": 5,
   "metadata": {},
   "outputs": [],
   "source": [
    "data_inter = csv_to_json(df=df_inter)\n",
    "with open('./data_inter.json', 'w') as f:\n",
    "    f.write(data_inter)"
   ]
  },
  {
   "cell_type": "code",
   "execution_count": 6,
   "metadata": {},
   "outputs": [
    {
     "data": {
      "text/plain": [
       "1453.1499999999999"
      ]
     },
     "execution_count": 6,
     "metadata": {},
     "output_type": "execute_result"
    }
   ],
   "source": [
    "a = 'AS4652'\n",
    "df = df_domestic\n",
    "((df[df['ASN']==a]['Bandwidth'].sum())) + ((df[df['ASN-source']==a]['Bandwidth'].sum()))"
   ]
  },
  {
   "cell_type": "code",
   "execution_count": null,
   "metadata": {},
   "outputs": [],
   "source": []
  }
 ],
 "metadata": {
  "kernelspec": {
   "display_name": "Python 3",
   "language": "python",
   "name": "python3"
  },
  "language_info": {
   "codemirror_mode": {
    "name": "ipython",
    "version": 3
   },
   "file_extension": ".py",
   "mimetype": "text/x-python",
   "name": "python",
   "nbconvert_exporter": "python",
   "pygments_lexer": "ipython3",
   "version": "3.6.3"
  }
 },
 "nbformat": 4,
 "nbformat_minor": 2
}
